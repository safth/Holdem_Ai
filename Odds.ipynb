{
 "cells": [
  {
   "cell_type": "markdown",
   "metadata": {},
   "source": [
    "# Odds to draw a card"
   ]
  },
  {
   "cell_type": "code",
   "execution_count": 82,
   "metadata": {},
   "outputs": [],
   "source": [
    "def Deck():\n",
    "    card = [1,2,3,4,5,6,7,8,9,10,11,12,13]*4\n",
    "    card.sort()\n",
    "    #len(card)\n",
    "    return card\n",
    "def Deck_suited():\n",
    "    card = [1,2,3,4]*13\n",
    "    card.sort()\n",
    "    #len(card)\n",
    "    return card\n"
   ]
  },
  {
   "cell_type": "code",
   "execution_count": 112,
   "metadata": {},
   "outputs": [],
   "source": [
    "def count_prob(card,deck,num_card=1):\n",
    "    count=0\n",
    "    for deck_card in deck:\n",
    "        if deck_card == card:\n",
    "            count+=1\n",
    "    prob = (num_card*count/len(deck))*100\n",
    "    return prob"
   ]
  },
  {
   "cell_type": "code",
   "execution_count": 84,
   "metadata": {},
   "outputs": [],
   "source": [
    "def pop_card(deck,main,board):\n",
    "    for card in main+board:\n",
    "        deck.remove(card)\n",
    "    return deck"
   ]
  },
  {
   "cell_type": "code",
   "execution_count": 96,
   "metadata": {},
   "outputs": [
    {
     "name": "stdout",
     "output_type": "stream",
     "text": [
      "prob de faire un doublet: 6.4%\n"
     ]
    }
   ],
   "source": [
    "main = [1,2]\n",
    "board = [4,5,6]\n",
    "deck = Deck() # fait un deck de 52 cartes\n",
    "deck = pop_card(deck,main,board) # enleve les cartes en jeux\n",
    "prob = count_prob(1,deck)\n",
    "print('prob de faire un doublet: %0.1f%%' % prob)\n"
   ]
  },
  {
   "cell_type": "code",
   "execution_count": 97,
   "metadata": {},
   "outputs": [
    {
     "name": "stdout",
     "output_type": "stream",
     "text": [
      "prob de faire un triplet: 4.3%\n"
     ]
    }
   ],
   "source": [
    "main = [1,1]\n",
    "board = [4,5,6]\n",
    "deck = Deck() # fait un deck de 52 cartes\n",
    "deck = pop_card(deck,main,board) # enleve les cartes en jeux\n",
    "prob = count_prob(1,deck)\n",
    "print('prob de faire un triplet: %0.1f%%' % prob)"
   ]
  },
  {
   "cell_type": "code",
   "execution_count": 106,
   "metadata": {},
   "outputs": [
    {
     "name": "stdout",
     "output_type": "stream",
     "text": [
      "prob flush s'il ne manque qu'une carte: 19.1%\n",
      "prob flush s'il manque 2 cartes: 4.0%\n"
     ]
    }
   ],
   "source": [
    "main = [1,1] # 1à4 pour les suits.\n",
    "board = [1,1,4]\n",
    "deck = Deck_suited()# fait un deck de 52 cartes\n",
    "deck = pop_card(deck,main,board) # enleve les cartes en jeux\n",
    "prob = count_prob(1,deck)\n",
    "print(\"prob flush s'il ne manque qu'une carte: %0.1f%%\" % prob)\n",
    "print(\"prob flush s'il manque 2 cartes: %0.1f%%\" % ((0.2*0.2)*100))"
   ]
  },
  {
   "cell_type": "code",
   "execution_count": 113,
   "metadata": {},
   "outputs": [
    {
     "name": "stdout",
     "output_type": "stream",
     "text": [
      "prob de faire une inside straight: 8.5%\n"
     ]
    }
   ],
   "source": [
    "main = [1,2]\n",
    "board = [3,4,6]\n",
    "deck = Deck() # fait un deck de 52 cartes\n",
    "deck = pop_card(deck,main,board) # enleve les cartes en jeux\n",
    "prob = count_prob(5,deck)\n",
    "print('prob de faire une inside straight: %0.1f%%' % prob)"
   ]
  },
  {
   "cell_type": "code",
   "execution_count": 114,
   "metadata": {},
   "outputs": [
    {
     "name": "stdout",
     "output_type": "stream",
     "text": [
      "prob de faire une open straight: 17.0%\n"
     ]
    }
   ],
   "source": [
    "main = [1,2]\n",
    "board = [3,4,6]\n",
    "deck = Deck() # fait un deck de 52 cartes\n",
    "deck = pop_card(deck,main,board) # enleve les cartes en jeux\n",
    "prob = count_prob(5,deck,num_card=2)\n",
    "print('prob de faire une open straight: %0.1f%%' % prob)"
   ]
  },
  {
   "cell_type": "code",
   "execution_count": null,
   "metadata": {},
   "outputs": [],
   "source": []
  },
  {
   "cell_type": "code",
   "execution_count": null,
   "metadata": {},
   "outputs": [],
   "source": []
  },
  {
   "cell_type": "code",
   "execution_count": 149,
   "metadata": {},
   "outputs": [
    {
     "name": "stdout",
     "output_type": "stream",
     "text": [
      "yolo\n"
     ]
    }
   ],
   "source": [
    "if (True or False) :\n",
    "    print('yolo')"
   ]
  },
  {
   "cell_type": "code",
   "execution_count": 154,
   "metadata": {},
   "outputs": [],
   "source": [
    "if (False or False) and (False or False):\n",
    "    print('yolo')"
   ]
  },
  {
   "cell_type": "code",
   "execution_count": null,
   "metadata": {},
   "outputs": [],
   "source": []
  }
 ],
 "metadata": {
  "kernelspec": {
   "display_name": "Python 3",
   "language": "python",
   "name": "python3"
  },
  "language_info": {
   "codemirror_mode": {
    "name": "ipython",
    "version": 3
   },
   "file_extension": ".py",
   "mimetype": "text/x-python",
   "name": "python",
   "nbconvert_exporter": "python",
   "pygments_lexer": "ipython3",
   "version": "3.6.4"
  }
 },
 "nbformat": 4,
 "nbformat_minor": 2
}
