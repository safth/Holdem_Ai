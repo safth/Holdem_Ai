{
 "cells": [
  {
   "cell_type": "code",
   "execution_count": 43,
   "metadata": {},
   "outputs": [],
   "source": [
    "from collections import Counter\n",
    "import numpy as np\n",
    "import random\n",
    "class Deck():\n",
    "    def __init__(self):\n",
    "        #self.cards = ['A','2','3','4','5','6','7','8','9','10','J','Q','K'] * 4\n",
    "        self.cards = []\n",
    "        for suit in ['Spade','Heart','Club','Diamond']:\n",
    "            for rank in range(1,14):\n",
    "                self.cards.append({'rank':rank, 'suit':suit})\n",
    "        random.shuffle(self.cards)\n",
    "\n",
    "    #give x random cards\n",
    "    def hit(self,num_card):\n",
    "        card = []\n",
    "        for i in range(num_card):\n",
    "            card.append(self.cards.pop())\n",
    "        return card\n",
    "    #reset le deck\n",
    "    def reset(self):\n",
    "        import random\n",
    "        self.cards = [11,2,3,4,5,6,7,8,9,10,10,10,10] * 4\n",
    "        random.shuffle(self.cards)"
   ]
  },
  {
   "cell_type": "code",
   "execution_count": 1,
   "metadata": {},
   "outputs": [],
   "source": [
    "class Player():\n",
    "    def __init__(self,money):\n",
    "        self.hand = []\n",
    "        self.money = money\n",
    "        self.board = []\n",
    "        self.doublet = 0\n",
    "        self.triplet = 0\n",
    "        self.quadruplet = 0\n",
    "        self.straight = 0\n",
    "        self.Rstraight = 0\n",
    "\n",
    "    def check_score(self):\n",
    "        rank_list = [ card['rank'] for card in self.hand + self.board]\n",
    "        #check for duplicated cards\n",
    "        counter = Counter(rank_list)\n",
    "        for key in counter:\n",
    "            if counter[key] == 2:\n",
    "                self.doublet += 1\n",
    "            elif counter[key] == 3:\n",
    "                self.triplet += 1\n",
    "            elif counter[key] == 4:\n",
    "                self.quadruplet += 1\n",
    "        #check for higest cards\n",
    "\n",
    "        #check for straight (5 card in order)\n",
    "        sorted_set_rank = list(set(sorted(rank_list)))\n",
    "        for i in range(len(sorted_set_rank)-4):\n",
    "            if len(sorted_set_rank)<5:\n",
    "                break\n",
    "            if sorted_set_rank[i+4]-sorted_set_rank[i]+1==5:\n",
    "                self.straight = 1\n",
    "            if sorted_set_rank[i+4]-sorted_set_rank[i+1]+1==4 and sorted_set_rank[0]==1:\n",
    "                self.Rstraight = 1\n",
    "\n",
    "\n",
    "        #check for straigth flush (5 card in order with same suit)\n",
    "\n",
    "        #check for flush (5 card of same suit)\n",
    "\n",
    "        #check for royale flush"
   ]
  },
  {
   "cell_type": "code",
   "execution_count": 84,
   "metadata": {},
   "outputs": [],
   "source": [
    "deck = Deck()\n",
    "player = Player(1000)\n",
    "\n",
    "player.hand = (deck.hit(2))\n",
    "#print(player.hand)\n",
    "\n",
    "board = (deck.hit(8))\n",
    "#print(board)\n",
    "\n",
    "player.board = board\n",
    "\n",
    "player.check_score()\n"
   ]
  },
  {
   "cell_type": "code",
   "execution_count": 85,
   "metadata": {},
   "outputs": [
    {
     "data": {
      "text/plain": [
       "[{'rank': 2, 'suit': 'Heart'},\n",
       " {'rank': 1, 'suit': 'Heart'},\n",
       " {'rank': 10, 'suit': 'Spade'},\n",
       " {'rank': 11, 'suit': 'Club'},\n",
       " {'rank': 6, 'suit': 'Spade'},\n",
       " {'rank': 2, 'suit': 'Club'},\n",
       " {'rank': 11, 'suit': 'Diamond'},\n",
       " {'rank': 10, 'suit': 'Heart'}]"
      ]
     },
     "execution_count": 85,
     "metadata": {},
     "output_type": "execute_result"
    }
   ],
   "source": [
    "player.board"
   ]
  },
  {
   "cell_type": "code",
   "execution_count": 128,
   "metadata": {},
   "outputs": [],
   "source": [
    "rank_list = [ card['rank'] for card in player.hand + player.board]\n",
    "suit_list = [ card['suit'] for card in player.hand + player.board]"
   ]
  },
  {
   "cell_type": "code",
   "execution_count": 87,
   "metadata": {},
   "outputs": [
    {
     "data": {
      "text/plain": [
       "[{'rank': 12, 'suit': 'Diamond'},\n",
       " {'rank': 7, 'suit': 'Spade'},\n",
       " {'rank': 2, 'suit': 'Heart'},\n",
       " {'rank': 1, 'suit': 'Heart'},\n",
       " {'rank': 10, 'suit': 'Spade'},\n",
       " {'rank': 11, 'suit': 'Club'},\n",
       " {'rank': 6, 'suit': 'Spade'},\n",
       " {'rank': 2, 'suit': 'Club'},\n",
       " {'rank': 11, 'suit': 'Diamond'},\n",
       " {'rank': 10, 'suit': 'Heart'}]"
      ]
     },
     "execution_count": 87,
     "metadata": {},
     "output_type": "execute_result"
    }
   ],
   "source": [
    "card = player.hand + player.board\n",
    "card"
   ]
  },
  {
   "cell_type": "code",
   "execution_count": 135,
   "metadata": {},
   "outputs": [],
   "source": [
    "rank_list = [4,1,5,2,3,8]"
   ]
  },
  {
   "cell_type": "code",
   "execution_count": 149,
   "metadata": {},
   "outputs": [],
   "source": [
    "for icard in card:\n",
    "    if icard['rank']+1 in rank_list and icard['rank']+2 in rank_list and icard['rank']+3 in rank_list and icard['rank']+4 in rank_list :\n",
    "        val = icard['rank']\n",
    "        #self.straight = 1\n",
    "        new_list = [suit_list[rank_list.index(val+i)] for i in range(5) ]\n",
    "        "
   ]
  },
  {
   "cell_type": "code",
   "execution_count": 150,
   "metadata": {},
   "outputs": [
    {
     "data": {
      "text/plain": [
       "1"
      ]
     },
     "execution_count": 150,
     "metadata": {},
     "output_type": "execute_result"
    }
   ],
   "source": [
    "rank_list.index(val)"
   ]
  },
  {
   "cell_type": "code",
   "execution_count": 151,
   "metadata": {},
   "outputs": [],
   "source": [
    "new_list = [suit_list[rank_list.index(val+i)] for i in range(5) ]"
   ]
  },
  {
   "cell_type": "code",
   "execution_count": 152,
   "metadata": {},
   "outputs": [
    {
     "data": {
      "text/plain": [
       "['Spade', 'Heart', 'Spade', 'Diamond', 'Heart']"
      ]
     },
     "execution_count": 152,
     "metadata": {},
     "output_type": "execute_result"
    }
   ],
   "source": [
    "new_list"
   ]
  },
  {
   "cell_type": "code",
   "execution_count": 154,
   "metadata": {},
   "outputs": [
    {
     "data": {
      "text/plain": [
       "3"
      ]
     },
     "execution_count": 154,
     "metadata": {},
     "output_type": "execute_result"
    }
   ],
   "source": [
    "len(set(new_list))"
   ]
  },
  {
   "cell_type": "code",
   "execution_count": 156,
   "metadata": {},
   "outputs": [],
   "source": [
    "l = [False, False, True]"
   ]
  },
  {
   "cell_type": "code",
   "execution_count": null,
   "metadata": {},
   "outputs": [],
   "source": []
  },
  {
   "cell_type": "code",
   "execution_count": 159,
   "metadata": {},
   "outputs": [
    {
     "data": {
      "text/plain": [
       "False"
      ]
     },
     "execution_count": 159,
     "metadata": {},
     "output_type": "execute_result"
    }
   ],
   "source": [
    "l==True"
   ]
  },
  {
   "cell_type": "code",
   "execution_count": 35,
   "metadata": {},
   "outputs": [],
   "source": [
    "list = [1, 3, 9, 4, 10, 3, 2,2]\n"
   ]
  },
  {
   "cell_type": "code",
   "execution_count": 36,
   "metadata": {},
   "outputs": [
    {
     "data": {
      "text/plain": [
       "[1, 3, 9, 4, 10, 3, 2, 2]"
      ]
     },
     "execution_count": 36,
     "metadata": {},
     "output_type": "execute_result"
    }
   ],
   "source": [
    "list"
   ]
  },
  {
   "cell_type": "code",
   "execution_count": 37,
   "metadata": {},
   "outputs": [],
   "source": [
    "for i in range(2):list.remove(2)"
   ]
  },
  {
   "cell_type": "code",
   "execution_count": 38,
   "metadata": {},
   "outputs": [
    {
     "data": {
      "text/plain": [
       "[1, 3, 9, 4, 10, 3]"
      ]
     },
     "execution_count": 38,
     "metadata": {},
     "output_type": "execute_result"
    }
   ],
   "source": [
    "list"
   ]
  },
  {
   "cell_type": "code",
   "execution_count": 42,
   "metadata": {},
   "outputs": [
    {
     "name": "stdout",
     "output_type": "stream",
     "text": [
      "2\n",
      "3\n",
      "4\n",
      "5\n",
      "6\n",
      "7\n",
      "8\n",
      "9\n",
      "10\n",
      "11\n",
      "12\n",
      "13\n",
      "14\n"
     ]
    }
   ],
   "source": [
    "for i in range(2,15):\n",
    "    print(i)"
   ]
  },
  {
   "cell_type": "code",
   "execution_count": 2,
   "metadata": {},
   "outputs": [],
   "source": [
    "joueur1 = Player(money=1)\n",
    "joueur2 = Player(money=2)\n"
   ]
  },
  {
   "cell_type": "code",
   "execution_count": null,
   "metadata": {},
   "outputs": [],
   "source": []
  },
  {
   "cell_type": "code",
   "execution_count": 3,
   "metadata": {},
   "outputs": [],
   "source": [
    "def printf():\n",
    "    print(player1.money)\n",
    "def function():\n",
    "    listw = [joueur1,joueur2]\n",
    "    player1 = listw[0]\n",
    "    printf()\n",
    "\n",
    "    \n",
    "    "
   ]
  },
  {
   "cell_type": "code",
   "execution_count": 4,
   "metadata": {},
   "outputs": [
    {
     "ename": "NameError",
     "evalue": "name 'player1' is not defined",
     "output_type": "error",
     "traceback": [
      "\u001b[0;31m---------------------------------------------------------------------------\u001b[0m",
      "\u001b[0;31mNameError\u001b[0m                                 Traceback (most recent call last)",
      "\u001b[0;32m<ipython-input-4-30ca0b4348da>\u001b[0m in \u001b[0;36m<module>\u001b[0;34m()\u001b[0m\n\u001b[0;32m----> 1\u001b[0;31m \u001b[0mfunction\u001b[0m\u001b[0;34m(\u001b[0m\u001b[0;34m)\u001b[0m\u001b[0;34m\u001b[0m\u001b[0m\n\u001b[0m",
      "\u001b[0;32m<ipython-input-3-c88d8f0a372f>\u001b[0m in \u001b[0;36mfunction\u001b[0;34m()\u001b[0m\n\u001b[1;32m      4\u001b[0m     \u001b[0mlistw\u001b[0m \u001b[0;34m=\u001b[0m \u001b[0;34m[\u001b[0m\u001b[0mjoueur1\u001b[0m\u001b[0;34m,\u001b[0m\u001b[0mjoueur2\u001b[0m\u001b[0;34m]\u001b[0m\u001b[0;34m\u001b[0m\u001b[0m\n\u001b[1;32m      5\u001b[0m     \u001b[0mplayer1\u001b[0m \u001b[0;34m=\u001b[0m \u001b[0mlistw\u001b[0m\u001b[0;34m[\u001b[0m\u001b[0;36m0\u001b[0m\u001b[0;34m]\u001b[0m\u001b[0;34m\u001b[0m\u001b[0m\n\u001b[0;32m----> 6\u001b[0;31m     \u001b[0mprintf\u001b[0m\u001b[0;34m(\u001b[0m\u001b[0;34m)\u001b[0m\u001b[0;34m\u001b[0m\u001b[0m\n\u001b[0m\u001b[1;32m      7\u001b[0m \u001b[0;34m\u001b[0m\u001b[0m\n\u001b[1;32m      8\u001b[0m \u001b[0;34m\u001b[0m\u001b[0m\n",
      "\u001b[0;32m<ipython-input-3-c88d8f0a372f>\u001b[0m in \u001b[0;36mprintf\u001b[0;34m()\u001b[0m\n\u001b[1;32m      1\u001b[0m \u001b[0;32mdef\u001b[0m \u001b[0mprintf\u001b[0m\u001b[0;34m(\u001b[0m\u001b[0;34m)\u001b[0m\u001b[0;34m:\u001b[0m\u001b[0;34m\u001b[0m\u001b[0m\n\u001b[0;32m----> 2\u001b[0;31m     \u001b[0mprint\u001b[0m\u001b[0;34m(\u001b[0m\u001b[0mplayer1\u001b[0m\u001b[0;34m.\u001b[0m\u001b[0mmoney\u001b[0m\u001b[0;34m)\u001b[0m\u001b[0;34m\u001b[0m\u001b[0m\n\u001b[0m\u001b[1;32m      3\u001b[0m \u001b[0;32mdef\u001b[0m \u001b[0mfunction\u001b[0m\u001b[0;34m(\u001b[0m\u001b[0;34m)\u001b[0m\u001b[0;34m:\u001b[0m\u001b[0;34m\u001b[0m\u001b[0m\n\u001b[1;32m      4\u001b[0m     \u001b[0mlistw\u001b[0m \u001b[0;34m=\u001b[0m \u001b[0;34m[\u001b[0m\u001b[0mjoueur1\u001b[0m\u001b[0;34m,\u001b[0m\u001b[0mjoueur2\u001b[0m\u001b[0;34m]\u001b[0m\u001b[0;34m\u001b[0m\u001b[0m\n\u001b[1;32m      5\u001b[0m     \u001b[0mplayer1\u001b[0m \u001b[0;34m=\u001b[0m \u001b[0mlistw\u001b[0m\u001b[0;34m[\u001b[0m\u001b[0;36m0\u001b[0m\u001b[0;34m]\u001b[0m\u001b[0;34m\u001b[0m\u001b[0m\n",
      "\u001b[0;31mNameError\u001b[0m: name 'player1' is not defined"
     ]
    }
   ],
   "source": [
    "function()"
   ]
  },
  {
   "cell_type": "code",
   "execution_count": null,
   "metadata": {},
   "outputs": [],
   "source": []
  },
  {
   "cell_type": "code",
   "execution_count": null,
   "metadata": {},
   "outputs": [],
   "source": []
  }
 ],
 "metadata": {
  "kernelspec": {
   "display_name": "Python 3",
   "language": "python",
   "name": "python3"
  },
  "language_info": {
   "codemirror_mode": {
    "name": "ipython",
    "version": 3
   },
   "file_extension": ".py",
   "mimetype": "text/x-python",
   "name": "python",
   "nbconvert_exporter": "python",
   "pygments_lexer": "ipython3",
   "version": "3.6.4"
  }
 },
 "nbformat": 4,
 "nbformat_minor": 2
}
